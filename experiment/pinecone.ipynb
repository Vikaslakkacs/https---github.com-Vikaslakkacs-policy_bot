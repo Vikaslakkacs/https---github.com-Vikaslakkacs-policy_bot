{
 "cells": [
  {
   "cell_type": "code",
   "execution_count": 1,
   "metadata": {},
   "outputs": [],
   "source": [
    "from langchain.document_loaders import TextLoader\n",
    "from langchain.text_splitter import RecursiveCharacterTextSplitter\n",
    "from langchain.embeddings import OpenAIEmbeddings\n",
    "from langchain.llms import OpenAI\n",
    "from langchain.vectorstores import Pinecone as PineconeVectorStore\n",
    "from langchain.chains import RetrievalQA\n",
    "from langchain.prompts import PromptTemplate\n",
    "import os"
   ]
  },
  {
   "cell_type": "markdown",
   "metadata": {},
   "source": [
    "### Loading of data \n",
    "#### we cannot load data direclty as plain text, we have to load data with document_loader as it creates meta data as well"
   ]
  },
  {
   "cell_type": "markdown",
   "metadata": {},
   "source": []
  },
  {
   "cell_type": "code",
   "execution_count": 2,
   "metadata": {},
   "outputs": [],
   "source": [
    "loader= TextLoader(\"/Users/vikaslakka/Desktop/FSDS/GenAI/Hackathon/Policy_bot/Leave_Policy.txt\")"
   ]
  },
  {
   "cell_type": "code",
   "execution_count": 3,
   "metadata": {},
   "outputs": [],
   "source": [
    "data= loader.load()"
   ]
  },
  {
   "cell_type": "markdown",
   "metadata": {},
   "source": [
    "### The below data has document of page content, not just text"
   ]
  },
  {
   "cell_type": "code",
   "execution_count": 4,
   "metadata": {},
   "outputs": [
    {
     "data": {
      "text/plain": [
       "[Document(page_content='Leave Policy:\\n\\n1. Annual Leave (Paid Time Off)\\n\\n\\t1.1 All full-time employees are entitled to 10 days of paid annual leave per calendar year, to be accrued on a pro-rata basis depending on the length of service.\\n\\n\\t1.2 Annual leave requests must be submitted at least 10 days in advance, except in cases of emergencies or unforeseen circumstances.\\n\\n\\t1.3 Approval of annual leave requests is subject to the operational requirements of the company and the availability of adequate staffing.\\n\\n\\t1.4 Unused annual leave cannot be carried forward to the next calendar year unless otherwise approved by the management.\\n\\n2. Sick Leave\\n\\n\\t2.1 All employees are entitled to 10 days of paid sick leave per calendar year.\\n\\n\\t2.2 Sick leave requests must be communicated to the immediate supervisor or HR department as soon as possible on the day of absence.\\n\\n\\t2.3 Medical certification may be required for sick leave exceeding 10 consecutive days.\\n\\n3. Bereavement Leave\\n\\n\\t3.1 In the unfortunate event of the death of an immediate family member (spouse, child, parent, sibling), employees are entitled to 10 days of paid bereavement leave.\\n\\n\\t3.2 Additional unpaid leave may be granted upon approval by the management.\\n\\n4. Maternity/Paternity Leave\\n\\n\\t4.1 Female employees are entitled to 10 weeks of paid maternity leave following childbirth.\\n\\n\\t4.2 Male employees are entitled to 10 weeks of paid paternity leave upon the birth or adoption of a child.\\n\\n\\t4.3 Additional unpaid leave may be granted upon request, subject to approval.\\n\\n5. Public Holidays\\n\\n\\t5.1 Employees are entitled to observe all public holidays recognised by the company.\\n\\n\\t5.2 If required to work on a public holiday, employees will be compensated with additional pay or granted compensatory time off, as per company policy.\\n\\n6. Leave Without Pay\\n\\n\\t6.1 Leave without pay may be granted at the discretion of the management upon request from employees for reasons such as personal leave, extended travel, or other personal circumstances.\\n\\n\\t6.2 Requests for leave without pay must be submitted in writing and will be considered based on the operational requirements of the company.\\n\\n7. Special Leave\\n\\n\\t7.1 Special leave may be granted for reasons such as participation in jury duty, military service, or other legal obligations.\\n\\n\\t7.2 Special leave may be paid or unpaid, depending on the circumstances and company policy.\\n\\n8. Implementation and Review**\\n\\n\\t8.1 This leave policy shall be communicated to all employees upon commencement of employment and reviewed annually or as necessary by the HR department in consultation with the management.\\n', metadata={'source': '/Users/vikaslakka/Desktop/FSDS/GenAI/Hackathon/Policy_bot/Leave_Policy.txt'})]"
      ]
     },
     "execution_count": 4,
     "metadata": {},
     "output_type": "execute_result"
    }
   ],
   "source": [
    "data"
   ]
  },
  {
   "cell_type": "code",
   "execution_count": 5,
   "metadata": {},
   "outputs": [
    {
     "name": "stdout",
     "output_type": "stream",
     "text": [
      "Leave Policy:\n",
      "\n",
      "1. Annual Leave (Paid Time Off)\n",
      "\n",
      "\t1.1 All full-time employees are entitled to 10 days of paid annual leave per calendar year, to be accrued on a pro-rata basis depending on the length of service.\n",
      "\n",
      "\t1.2 Annual leave requests must be submitted at least 10 days in advance, except in cases of emergencies or unforeseen circumstances.\n",
      "\n",
      "\t1.3 Approval of annual leave requests is subject to the operational requirements of the company and the availability of adequate staffing.\n",
      "\n",
      "\t1.4 Unused annual leave cannot be carried forward to the next calendar year unless otherwise approved by the management.\n",
      "\n",
      "2. Sick Leave\n",
      "\n",
      "\t2.1 All employees are entitled to 10 days of paid sick leave per calendar year.\n",
      "\n",
      "\t2.2 Sick leave requests must be communicated to the immediate supervisor or HR department as soon as possible on the day of absence.\n",
      "\n",
      "\t2.3 Medical certification may be required for sick leave exceeding 10 consecutive days.\n",
      "\n",
      "3. Bereavement Leave\n",
      "\n",
      "\t3.1 In the unfortunate event of the death of an immediate family member (spouse, child, parent, sibling), employees are entitled to 10 days of paid bereavement leave.\n",
      "\n",
      "\t3.2 Additional unpaid leave may be granted upon approval by the management.\n",
      "\n",
      "4. Maternity/Paternity Leave\n",
      "\n",
      "\t4.1 Female employees are entitled to 10 weeks of paid maternity leave following childbirth.\n",
      "\n",
      "\t4.2 Male employees are entitled to 10 weeks of paid paternity leave upon the birth or adoption of a child.\n",
      "\n",
      "\t4.3 Additional unpaid leave may be granted upon request, subject to approval.\n",
      "\n",
      "5. Public Holidays\n",
      "\n",
      "\t5.1 Employees are entitled to observe all public holidays recognised by the company.\n",
      "\n",
      "\t5.2 If required to work on a public holiday, employees will be compensated with additional pay or granted compensatory time off, as per company policy.\n",
      "\n",
      "6. Leave Without Pay\n",
      "\n",
      "\t6.1 Leave without pay may be granted at the discretion of the management upon request from employees for reasons such as personal leave, extended travel, or other personal circumstances.\n",
      "\n",
      "\t6.2 Requests for leave without pay must be submitted in writing and will be considered based on the operational requirements of the company.\n",
      "\n",
      "7. Special Leave\n",
      "\n",
      "\t7.1 Special leave may be granted for reasons such as participation in jury duty, military service, or other legal obligations.\n",
      "\n",
      "\t7.2 Special leave may be paid or unpaid, depending on the circumstances and company policy.\n",
      "\n",
      "8. Implementation and Review**\n",
      "\n",
      "\t8.1 This leave policy shall be communicated to all employees upon commencement of employment and reviewed annually or as necessary by the HR department in consultation with the management.\n",
      "\n"
     ]
    }
   ],
   "source": [
    "print(data[0].page_content)"
   ]
  },
  {
   "cell_type": "markdown",
   "metadata": {},
   "source": [
    "#### We will split the text into chunks with chunk size of 500"
   ]
  },
  {
   "cell_type": "code",
   "execution_count": 6,
   "metadata": {},
   "outputs": [],
   "source": [
    "text_splitter= RecursiveCharacterTextSplitter(chunk_size=500,chunk_overlap=20)"
   ]
  },
  {
   "cell_type": "code",
   "execution_count": 7,
   "metadata": {},
   "outputs": [],
   "source": [
    "text_chunks= text_splitter.split_documents(data)"
   ]
  },
  {
   "cell_type": "code",
   "execution_count": 8,
   "metadata": {},
   "outputs": [
    {
     "data": {
      "text/plain": [
       "[Document(page_content='Leave Policy:\\n\\n1. Annual Leave (Paid Time Off)\\n\\n\\t1.1 All full-time employees are entitled to 10 days of paid annual leave per calendar year, to be accrued on a pro-rata basis depending on the length of service.\\n\\n\\t1.2 Annual leave requests must be submitted at least 10 days in advance, except in cases of emergencies or unforeseen circumstances.\\n\\n\\t1.3 Approval of annual leave requests is subject to the operational requirements of the company and the availability of adequate staffing.', metadata={'source': '/Users/vikaslakka/Desktop/FSDS/GenAI/Hackathon/Policy_bot/Leave_Policy.txt'}),\n",
       " Document(page_content='1.4 Unused annual leave cannot be carried forward to the next calendar year unless otherwise approved by the management.\\n\\n2. Sick Leave\\n\\n\\t2.1 All employees are entitled to 10 days of paid sick leave per calendar year.\\n\\n\\t2.2 Sick leave requests must be communicated to the immediate supervisor or HR department as soon as possible on the day of absence.\\n\\n\\t2.3 Medical certification may be required for sick leave exceeding 10 consecutive days.\\n\\n3. Bereavement Leave', metadata={'source': '/Users/vikaslakka/Desktop/FSDS/GenAI/Hackathon/Policy_bot/Leave_Policy.txt'}),\n",
       " Document(page_content='3.1 In the unfortunate event of the death of an immediate family member (spouse, child, parent, sibling), employees are entitled to 10 days of paid bereavement leave.\\n\\n\\t3.2 Additional unpaid leave may be granted upon approval by the management.\\n\\n4. Maternity/Paternity Leave\\n\\n\\t4.1 Female employees are entitled to 10 weeks of paid maternity leave following childbirth.\\n\\n\\t4.2 Male employees are entitled to 10 weeks of paid paternity leave upon the birth or adoption of a child.', metadata={'source': '/Users/vikaslakka/Desktop/FSDS/GenAI/Hackathon/Policy_bot/Leave_Policy.txt'}),\n",
       " Document(page_content='4.3 Additional unpaid leave may be granted upon request, subject to approval.\\n\\n5. Public Holidays\\n\\n\\t5.1 Employees are entitled to observe all public holidays recognised by the company.\\n\\n\\t5.2 If required to work on a public holiday, employees will be compensated with additional pay or granted compensatory time off, as per company policy.\\n\\n6. Leave Without Pay', metadata={'source': '/Users/vikaslakka/Desktop/FSDS/GenAI/Hackathon/Policy_bot/Leave_Policy.txt'}),\n",
       " Document(page_content='6.1 Leave without pay may be granted at the discretion of the management upon request from employees for reasons such as personal leave, extended travel, or other personal circumstances.\\n\\n\\t6.2 Requests for leave without pay must be submitted in writing and will be considered based on the operational requirements of the company.\\n\\n7. Special Leave\\n\\n\\t7.1 Special leave may be granted for reasons such as participation in jury duty, military service, or other legal obligations.', metadata={'source': '/Users/vikaslakka/Desktop/FSDS/GenAI/Hackathon/Policy_bot/Leave_Policy.txt'}),\n",
       " Document(page_content='7.2 Special leave may be paid or unpaid, depending on the circumstances and company policy.\\n\\n8. Implementation and Review**\\n\\n\\t8.1 This leave policy shall be communicated to all employees upon commencement of employment and reviewed annually or as necessary by the HR department in consultation with the management.', metadata={'source': '/Users/vikaslakka/Desktop/FSDS/GenAI/Hackathon/Policy_bot/Leave_Policy.txt'})]"
      ]
     },
     "execution_count": 8,
     "metadata": {},
     "output_type": "execute_result"
    }
   ],
   "source": [
    "text_chunks"
   ]
  },
  {
   "cell_type": "code",
   "execution_count": 9,
   "metadata": {},
   "outputs": [
    {
     "data": {
      "text/plain": [
       "6"
      ]
     },
     "execution_count": 9,
     "metadata": {},
     "output_type": "execute_result"
    }
   ],
   "source": [
    "len(text_chunks)"
   ]
  },
  {
   "cell_type": "markdown",
   "metadata": {},
   "source": [
    "### we can view chunks of data using list attributes\n"
   ]
  },
  {
   "cell_type": "code",
   "execution_count": 10,
   "metadata": {},
   "outputs": [
    {
     "name": "stdout",
     "output_type": "stream",
     "text": [
      "1.4 Unused annual leave cannot be carried forward to the next calendar year unless otherwise approved by the management.\n",
      "\n",
      "2. Sick Leave\n",
      "\n",
      "\t2.1 All employees are entitled to 10 days of paid sick leave per calendar year.\n",
      "\n",
      "\t2.2 Sick leave requests must be communicated to the immediate supervisor or HR department as soon as possible on the day of absence.\n",
      "\n",
      "\t2.3 Medical certification may be required for sick leave exceeding 10 consecutive days.\n",
      "\n",
      "3. Bereavement Leave\n"
     ]
    }
   ],
   "source": [
    "print(text_chunks[1].page_content)"
   ]
  },
  {
   "cell_type": "markdown",
   "metadata": {},
   "source": [
    "## Create embeddings using pine cone"
   ]
  },
  {
   "cell_type": "code",
   "execution_count": 11,
   "metadata": {},
   "outputs": [],
   "source": [
    "import os"
   ]
  },
  {
   "cell_type": "code",
   "execution_count": 12,
   "metadata": {},
   "outputs": [
    {
     "name": "stderr",
     "output_type": "stream",
     "text": [
      "/Users/vikaslakka/opt/miniconda3/envs/policy_bot/lib/python3.10/site-packages/langchain_core/_api/deprecation.py:117: LangChainDeprecationWarning: The class `langchain_community.embeddings.openai.OpenAIEmbeddings` was deprecated in langchain-community 0.1.0 and will be removed in 0.2.0. An updated version of the class exists in the langchain-openai package and should be used instead. To use it run `pip install -U langchain-openai` and import as `from langchain_openai import OpenAIEmbeddings`.\n",
      "  warn_deprecated(\n"
     ]
    }
   ],
   "source": [
    "embedding= OpenAIEmbeddings()"
   ]
  },
  {
   "cell_type": "markdown",
   "metadata": {},
   "source": [
    "## We willconsider an example of embeddings"
   ]
  },
  {
   "cell_type": "code",
   "execution_count": 13,
   "metadata": {},
   "outputs": [],
   "source": [
    "#len(embedding.embed_query(\"I am vikas Lakka\"))"
   ]
  },
  {
   "cell_type": "code",
   "execution_count": 14,
   "metadata": {},
   "outputs": [
    {
     "name": "stderr",
     "output_type": "stream",
     "text": [
      "/Users/vikaslakka/opt/miniconda3/envs/policy_bot/lib/python3.10/site-packages/pinecone/data/index.py:1: TqdmWarning: IProgress not found. Please update jupyter and ipywidgets. See https://ipywidgets.readthedocs.io/en/stable/user_install.html\n",
      "  from tqdm.autonotebook import tqdm\n"
     ]
    }
   ],
   "source": [
    "## The below commented import doesn't hav efrom_text to convert text to embeddings, hence using langchain library\n",
    "from pinecone import Pinecone\n",
    "##from langchain.vectorstores.pinecone import Pinecone"
   ]
  },
  {
   "cell_type": "code",
   "execution_count": 15,
   "metadata": {},
   "outputs": [],
   "source": [
    "##Get APi key and environment from pinecone\n",
    "PINECONE_API_KEY= os.environ['PINECONE_API_KEY']\n",
    "PINECONE_API_ENV=os.environ['PINECONE_API_ENV']"
   ]
  },
  {
   "cell_type": "code",
   "execution_count": 16,
   "metadata": {},
   "outputs": [
    {
     "data": {
      "text/plain": [
       "'d53d4456-67e3-4701-baab-3141f5107a93'"
      ]
     },
     "execution_count": 16,
     "metadata": {},
     "output_type": "execute_result"
    }
   ],
   "source": [
    "PINECONE_API_KEY"
   ]
  },
  {
   "cell_type": "markdown",
   "metadata": {},
   "source": [
    "### Initiate pinecone"
   ]
  },
  {
   "cell_type": "code",
   "execution_count": 17,
   "metadata": {},
   "outputs": [],
   "source": [
    "pc= Pinecone(api_key= PINECONE_API_KEY,\n",
    "              environment= PINECONE_API_ENV\n",
    "    \n",
    ")"
   ]
  },
  {
   "cell_type": "markdown",
   "metadata": {},
   "source": [
    "### After creating index, Its time to define it."
   ]
  },
  {
   "cell_type": "code",
   "execution_count": 18,
   "metadata": {},
   "outputs": [],
   "source": [
    "index_name=\"policybot\""
   ]
  },
  {
   "cell_type": "code",
   "execution_count": 19,
   "metadata": {},
   "outputs": [],
   "source": [
    "index= pc.Index(\"policybot\")"
   ]
  },
  {
   "cell_type": "markdown",
   "metadata": {},
   "source": [
    "### Creating embeddings for each of Text chunk"
   ]
  },
  {
   "cell_type": "code",
   "execution_count": 20,
   "metadata": {},
   "outputs": [],
   "source": [
    "doc_chunks= [t.page_content for t in text_chunks]"
   ]
  },
  {
   "cell_type": "code",
   "execution_count": 21,
   "metadata": {},
   "outputs": [],
   "source": [
    "\n",
    "docsearch= PineconeVectorStore.from_texts(doc_chunks, embedding, index_name= index_name)"
   ]
  },
  {
   "cell_type": "code",
   "execution_count": 22,
   "metadata": {},
   "outputs": [
    {
     "data": {
      "text/plain": [
       "<langchain_community.vectorstores.pinecone.Pinecone at 0x134563f10>"
      ]
     },
     "execution_count": 22,
     "metadata": {},
     "output_type": "execute_result"
    }
   ],
   "source": [
    "docsearch"
   ]
  },
  {
   "cell_type": "code",
   "execution_count": 23,
   "metadata": {},
   "outputs": [],
   "source": [
    "query= \"How many paternity leaves can i take?\""
   ]
  },
  {
   "cell_type": "code",
   "execution_count": 24,
   "metadata": {},
   "outputs": [],
   "source": [
    "docs = docsearch.similarity_search(query)"
   ]
  },
  {
   "cell_type": "code",
   "execution_count": 25,
   "metadata": {},
   "outputs": [
    {
     "data": {
      "text/plain": [
       "[Document(page_content='3.1 In the unfortunate event of the death of an immediate family member (spouse, child, parent, sibling), employees are entitled to 10 days of paid bereavement leave.\\n\\n\\t3.2 Additional unpaid leave may be granted upon approval by the management.\\n\\n4. Maternity/Paternity Leave\\n\\n\\t4.1 Female employees are entitled to 10 weeks of paid maternity leave following childbirth.\\n\\n\\t4.2 Male employees are entitled to 10 weeks of paid paternity leave upon the birth or adoption of a child.'),\n",
       " Document(page_content='1.4 Unused annual leave cannot be carried forward to the next calendar year unless otherwise approved by the management.\\n\\n2. Sick Leave\\n\\n\\t2.1 All employees are entitled to 10 days of paid sick leave per calendar year.\\n\\n\\t2.2 Sick leave requests must be communicated to the immediate supervisor or HR department as soon as possible on the day of absence.\\n\\n\\t2.3 Medical certification may be required for sick leave exceeding 10 consecutive days.\\n\\n3. Bereavement Leave'),\n",
       " Document(page_content='Leave Policy:\\n\\n1. Annual Leave (Paid Time Off)\\n\\n\\t1.1 All full-time employees are entitled to 10 days of paid annual leave per calendar year, to be accrued on a pro-rata basis depending on the length of service.\\n\\n\\t1.2 Annual leave requests must be submitted at least 10 days in advance, except in cases of emergencies or unforeseen circumstances.\\n\\n\\t1.3 Approval of annual leave requests is subject to the operational requirements of the company and the availability of adequate staffing.'),\n",
       " Document(page_content='4.3 Additional unpaid leave may be granted upon request, subject to approval.\\n\\n5. Public Holidays\\n\\n\\t5.1 Employees are entitled to observe all public holidays recognised by the company.\\n\\n\\t5.2 If required to work on a public holiday, employees will be compensated with additional pay or granted compensatory time off, as per company policy.\\n\\n6. Leave Without Pay')]"
      ]
     },
     "execution_count": 25,
     "metadata": {},
     "output_type": "execute_result"
    }
   ],
   "source": [
    "docs"
   ]
  },
  {
   "cell_type": "code",
   "execution_count": 26,
   "metadata": {},
   "outputs": [
    {
     "name": "stdout",
     "output_type": "stream",
     "text": [
      "Leave Policy:\n",
      "\n",
      "1. Annual Leave (Paid Time Off)\n",
      "\n",
      "\t1.1 All full-time employees are entitled to 10 days of paid annual leave per calendar year, to be accrued on a pro-rata basis depending on the length of service.\n",
      "\n",
      "\t1.2 Annual leave requests must be submitted at least 10 days in advance, except in cases of emergencies or unforeseen circumstances.\n",
      "\n",
      "\t1.3 Approval of annual leave requests is subject to the operational requirements of the company and the availability of adequate staffing.\n"
     ]
    }
   ],
   "source": [
    "print(docs[2].page_content)"
   ]
  },
  {
   "cell_type": "markdown",
   "metadata": {},
   "source": [
    "### We could able to generate similarity search\n",
    "#### Lets create llm to sort this out"
   ]
  },
  {
   "cell_type": "code",
   "execution_count": 27,
   "metadata": {},
   "outputs": [
    {
     "name": "stderr",
     "output_type": "stream",
     "text": [
      "/Users/vikaslakka/opt/miniconda3/envs/policy_bot/lib/python3.10/site-packages/langchain_core/_api/deprecation.py:117: LangChainDeprecationWarning: The class `langchain_community.llms.openai.OpenAI` was deprecated in langchain-community 0.0.10 and will be removed in 0.2.0. An updated version of the class exists in the langchain-openai package and should be used instead. To use it run `pip install -U langchain-openai` and import as `from langchain_openai import OpenAI`.\n",
      "  warn_deprecated(\n"
     ]
    }
   ],
   "source": [
    "llm= OpenAI()"
   ]
  },
  {
   "cell_type": "markdown",
   "metadata": {},
   "source": [
    "#### We will call a retrieval method to retrieve answers from questions"
   ]
  },
  {
   "cell_type": "code",
   "execution_count": 28,
   "metadata": {},
   "outputs": [],
   "source": [
    "qa= RetrievalQA.from_chain_type(llm=llm, chain_type=\"stuff\",\n",
    "                                retriever= docsearch.as_retriever())"
   ]
  },
  {
   "cell_type": "code",
   "execution_count": 29,
   "metadata": {},
   "outputs": [
    {
     "data": {
      "text/plain": [
       "typing.Dict[str, typing.Any]"
      ]
     },
     "execution_count": 29,
     "metadata": {},
     "output_type": "execute_result"
    }
   ],
   "source": [
    "qa.InputType"
   ]
  },
  {
   "cell_type": "code",
   "execution_count": 30,
   "metadata": {},
   "outputs": [
    {
     "name": "stderr",
     "output_type": "stream",
     "text": [
      "/Users/vikaslakka/opt/miniconda3/envs/policy_bot/lib/python3.10/site-packages/langchain_core/_api/deprecation.py:117: LangChainDeprecationWarning: The function `run` was deprecated in LangChain 0.1.0 and will be removed in 0.2.0. Use invoke instead.\n",
      "  warn_deprecated(\n"
     ]
    },
    {
     "data": {
      "text/plain": [
       "' Male employees are entitled to 10 weeks of paid paternity leave upon the birth or adoption of a child. Additional unpaid leave may be granted upon approval by the management.'"
      ]
     },
     "execution_count": 30,
     "metadata": {},
     "output_type": "execute_result"
    }
   ],
   "source": [
    "qa.run(query)"
   ]
  },
  {
   "cell_type": "code",
   "execution_count": 31,
   "metadata": {},
   "outputs": [
    {
     "name": "stderr",
     "output_type": "stream",
     "text": [
      "/Users/vikaslakka/opt/miniconda3/envs/policy_bot/lib/python3.10/site-packages/langchain_core/_api/deprecation.py:117: LangChainDeprecationWarning: The function `__call__` was deprecated in LangChain 0.1.0 and will be removed in 0.2.0. Use invoke instead.\n",
      "  warn_deprecated(\n"
     ]
    },
    {
     "name": "stdout",
     "output_type": "stream",
     "text": [
      "Answer:  All employees are entitled to 10 days of paid sick leave per calendar year.\n",
      "Answer:  There are two leave policies mentioned in the context.\n",
      "Answer:  Annual leave, sick leave, bereavement leave, leave without pay, special leave\n",
      "Exiting\n"
     ]
    },
    {
     "ename": "SystemExit",
     "evalue": "",
     "output_type": "error",
     "traceback": [
      "An exception has occurred, use %tb to see the full traceback.\n",
      "\u001b[0;31mSystemExit\u001b[0m\n"
     ]
    },
    {
     "name": "stderr",
     "output_type": "stream",
     "text": [
      "/Users/vikaslakka/opt/miniconda3/envs/policy_bot/lib/python3.10/site-packages/IPython/core/interactiveshell.py:3561: UserWarning: To exit: use 'exit', 'quit', or Ctrl-D.\n",
      "  warn(\"To exit: use 'exit', 'quit', or Ctrl-D.\", stacklevel=1)\n"
     ]
    }
   ],
   "source": [
    "import sys\n",
    "while True:\n",
    "    user_input= input(f\"Input Prompt: \")\n",
    "    if user_input==\"exit\":\n",
    "        print(\"Exiting\")\n",
    "        sys.exit()\n",
    "    \n",
    "    if user_input == '':\n",
    "        continue\n",
    "    result = qa({'query': user_input})\n",
    "    print(f\"Answer: {result['result']}\") \n",
    "    "
   ]
  },
  {
   "cell_type": "code",
   "execution_count": null,
   "metadata": {},
   "outputs": [],
   "source": []
  }
 ],
 "metadata": {
  "kernelspec": {
   "display_name": "policy_bot",
   "language": "python",
   "name": "python3"
  },
  "language_info": {
   "codemirror_mode": {
    "name": "ipython",
    "version": 3
   },
   "file_extension": ".py",
   "mimetype": "text/x-python",
   "name": "python",
   "nbconvert_exporter": "python",
   "pygments_lexer": "ipython3",
   "version": "3.10.13"
  }
 },
 "nbformat": 4,
 "nbformat_minor": 2
}
